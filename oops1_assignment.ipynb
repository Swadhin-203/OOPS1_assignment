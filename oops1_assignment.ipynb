{
 "cells": [
  {
   "cell_type": "markdown",
   "id": "afe3b580",
   "metadata": {},
   "source": [
    "Q1. Explain Class and Object with respect to Object-Oriented Programming. Give a suitable example.\n",
    "\n",
    "Ans: In Object-Oriented Programming (OOP), a class is a blueprint or a template for creating objects. It defines a set of attributes and behaviors that an object of that class can possess. An object, on the other hand, is an instance of a class. It is created using the blueprint or template provided by the class.\n",
    "\n",
    "For example, let's consider a class called \"Car\". This class would have attributes such as \"make\", \"model\", \"year\", \"color\", \"engine size\", \"number of doors\", and \"mileage\", and behaviors such as \"start\", \"accelerate\", \"brake\", and \"stop\". These attributes and behaviors would be defined in the class, but the values for the attributes would be set when an object of that class is created.\n",
    "\n",
    "In this example, the \"Car\" class is the blueprint or template, and the \"my_car\" object is an instance of that class. The object has attributes and behaviors defined by the class, and we can set the object's attributes and call its behaviors as needed."
   ]
  },
  {
   "cell_type": "markdown",
   "id": "e3d5ae99",
   "metadata": {},
   "source": [
    "Q2. Name the four pillars of OOPs.\n",
    "\n",
    "Ans: The four pillars of Object-Oriented Programming (OOP) are:\n",
    "\n",
    "1-Encapsulation: Encapsulation is the technique of hiding the implementation details of an object from the outside world and providing a public interface to access and manipulate the object. It helps in achieving data abstraction and information hiding, which leads to a more robust and secure code.\n",
    "\n",
    "2-Inheritance: Inheritance is the mechanism by which one class inherits the properties and behaviors of another class. It enables the creation of new classes that are built upon existing classes and can reuse the code and functionality of the parent class. This reduces code redundancy and improves code readability and maintainability.\n",
    "\n",
    "3-Polymorphism: Polymorphism is the ability of an object to take on different forms or behave in different ways depending on the context. It enables the use of a single interface or method to represent multiple different types or classes. Polymorphism makes code more flexible, extensible, and reusable.\n",
    "\n",
    "4-Abstraction: Abstraction is the process of representing complex real-world entities as simplified models in code. It involves identifying the essential features and properties of an object and ignoring the non-essential details. Abstraction makes code more modular, scalable, and easier to understand and maintain."
   ]
  },
  {
   "cell_type": "markdown",
   "id": "262a9a57",
   "metadata": {},
   "source": [
    "Q3. Explain why the __init__() function is used. Give a suitable example.\n",
    "\n",
    "Ans:The __init__() function is a special method in Python classes that is used to initialize or set up the object's attributes when it is created. It is also known as a constructor because it is called automatically when an object of the class is created.\n",
    "\n",
    "The __init__() function takes in the self parameter, which is a reference to the object being created, and any other parameters needed to initialize the object's attributes. It then sets the initial values of the object's attributes based on the values passed in as parameters.In the following example, we define a Rectangle class that has a length and width attribute and an area() method that calculates the area of the rectangle. In the __init__() function, we initialize the length and width attributes based on the values passed in as parameters when the object is created.\n",
    "\n",
    "When we create an object of the Rectangle class (rect1), we pass in the values 10 and 5 as the length and width parameters, respectively. The __init__() function sets the length and width attributes of the rect1 object to 10 and 5, respectively.\n",
    "\n",
    "Finally, we call the area() method on the rect1 object to calculate its area, which is 50. Without the __init__() function, we would have to set the values of the length and width attributes manually every time we create a new Rectangle object, which would be repetitive and error-prone."
   ]
  },
  {
   "cell_type": "code",
   "execution_count": 2,
   "id": "0d87d8a3",
   "metadata": {},
   "outputs": [
    {
     "name": "stdout",
     "output_type": "stream",
     "text": [
      "50\n"
     ]
    }
   ],
   "source": [
    "# Here is an example:\n",
    "class Rectangle:\n",
    "    def __init__(self, length, width):\n",
    "        self.length = length\n",
    "        self.width = width\n",
    "    \n",
    "    def area(self):\n",
    "        return self.length * self.width\n",
    "\n",
    "rect1 = Rectangle(10, 5)\n",
    "print(rect1.area())\n"
   ]
  },
  {
   "cell_type": "markdown",
   "id": "cac5adc4",
   "metadata": {},
   "source": [
    "Q4. Why self is used in OOPs?\n",
    "\n",
    "Ans:In Object-Oriented Programming (OOP), self is used as a reference to the instance of the class. It is a convention used in Python to refer to the object that is being operated on or manipulated by the methods or functions defined within the class.\n",
    "\n",
    "When a method or function is defined inside a class, it automatically takes in the reference to the instance of the class as its first parameter, which is usually named self. This allows the method or function to access and manipulate the attributes of the object it is called on."
   ]
  },
  {
   "cell_type": "code",
   "execution_count": 6,
   "id": "5ae42ffe",
   "metadata": {},
   "outputs": [
    {
     "name": "stdout",
     "output_type": "stream",
     "text": [
      "Hello, my name is Alice and I am 30 years old.\n"
     ]
    }
   ],
   "source": [
    "# For example, consider the following class:\n",
    "class Person:\n",
    "    def __init__(self, name, age):\n",
    "        self.name = name\n",
    "        self.age = age\n",
    "        \n",
    "    def say_hello(self):\n",
    "        print(f\"Hello, my name is {self.name} and I am {self.age} years old.\")\n",
    "person1 = Person(\"Alice\", 30)\n",
    "person1.say_hello()\n",
    "\n"
   ]
  },
  {
   "cell_type": "markdown",
   "id": "3e3071e3",
   "metadata": {},
   "source": [
    "Q5. What is inheritance? Give an example for each type of inheritance.\n",
    "\n",
    "Ans:Inheritance is a key concept in Object-Oriented Programming (OOP) that allows a new class to be based on an existing class, inheriting its attributes and methods. The existing class is called the parent or superclass, and the new class is called the child or subclass.\n",
    "\n",
    "There are four types of inheritance in OOP:\n",
    "\n",
    "1-Single inheritance: In this type of inheritance, a child class inherits from a single parent class.\n",
    "2-Multiple inheritance: In this type of inheritance, a child class inherits from multiple parent classes.\n",
    "3-Hierarchical inheritance: In this type of inheritance, multiple child classes inherit from a single parent class."
   ]
  },
  {
   "cell_type": "code",
   "execution_count": 7,
   "id": "a3880129",
   "metadata": {},
   "outputs": [
    {
     "name": "stdout",
     "output_type": "stream",
     "text": [
      "Fido barks.\n"
     ]
    }
   ],
   "source": [
    "# Single Inheritance:\n",
    "class Animal:\n",
    "    def __init__(self, name):\n",
    "        self.name = name\n",
    "\n",
    "    def speak(self):\n",
    "        print(f\"{self.name} makes a sound.\")\n",
    "\n",
    "class Dog(Animal):\n",
    "    def __init__(self, name, breed):\n",
    "        super().__init__(name)\n",
    "        self.breed = breed\n",
    "\n",
    "    def speak(self):\n",
    "        print(f\"{self.name} barks.\")\n",
    "\n",
    "dog1 = Dog(\"Fido\", \"Labrador\")\n",
    "dog1.speak()\n"
   ]
  },
  {
   "cell_type": "code",
   "execution_count": 15,
   "id": "4336b9a5",
   "metadata": {},
   "outputs": [
    {
     "name": "stdout",
     "output_type": "stream",
     "text": [
      "Tom makes a sound.\n",
      "This bird has a wingspan of 6.5 and can fly.\n"
     ]
    }
   ],
   "source": [
    "# Multiple Inheritance:\n",
    "class Animal:\n",
    "    def __init__(self, name):\n",
    "        self.name = name\n",
    "    \n",
    "    def speak(self):\n",
    "        print(f\"{self.name} makes a sound.\")\n",
    "\n",
    "class Bird:\n",
    "    def __init__(self, wingspan):\n",
    "        self.wingspan = wingspan\n",
    "    \n",
    "    def fly(self):\n",
    "        print(f\"This bird has a wingspan of {self.wingspan} and can fly.\")\n",
    "    \n",
    "class Eagle(Animal, Bird):\n",
    "    def __init__(self, name, wingspan):\n",
    "        Animal.__init__(self, name)\n",
    "        Bird.__init__(self, wingspan)\n",
    "    \n",
    "eagle = Eagle(\"Tom\", 6.5)\n",
    "eagle.speak()   \n",
    "eagle.fly()  \n"
   ]
  },
  {
   "cell_type": "code",
   "execution_count": 14,
   "id": "04ad1fa3",
   "metadata": {},
   "outputs": [
    {
     "name": "stdout",
     "output_type": "stream",
     "text": [
      "Fido barks.\n",
      "Fluffy meows.\n"
     ]
    }
   ],
   "source": [
    "# Hierarchical Inheritance:\n",
    "class Animal:\n",
    "    def __init__(self, name):\n",
    "        self.name = name\n",
    "\n",
    "    def speak(self):\n",
    "        print(f\"{self.name} makes a sound.\")\n",
    "\n",
    "class Dog(Animal):\n",
    "    def __init__(self, name, breed):\n",
    "        super().__init__(name)\n",
    "        self.breed = breed\n",
    "\n",
    "    def speak(self):\n",
    "        print(f\"{self.name} barks.\")\n",
    "\n",
    "class Cat(Animal):\n",
    "    def __init__(self, name, color):\n",
    "        super().__init__(name)\n",
    "        self.color = color\n",
    "\n",
    "    def speak(self):\n",
    "        print(f\"{self.name} meows.\")\n",
    "\n",
    "dog1 = Dog(\"Fido\", \"Labrador\")\n",
    "cat1 = Cat(\"Fluffy\", \"White\")\n",
    "\n",
    "dog1.speak()   \n",
    "cat1.speak()    \n"
   ]
  },
  {
   "cell_type": "code",
   "execution_count": null,
   "id": "1a1f4a15",
   "metadata": {},
   "outputs": [],
   "source": []
  },
  {
   "cell_type": "code",
   "execution_count": null,
   "id": "31f6cdb0",
   "metadata": {},
   "outputs": [],
   "source": []
  },
  {
   "cell_type": "code",
   "execution_count": null,
   "id": "1e1ea528",
   "metadata": {},
   "outputs": [],
   "source": []
  },
  {
   "cell_type": "code",
   "execution_count": null,
   "id": "277321fc",
   "metadata": {},
   "outputs": [],
   "source": []
  },
  {
   "cell_type": "code",
   "execution_count": null,
   "id": "8ccd984d",
   "metadata": {},
   "outputs": [],
   "source": []
  }
 ],
 "metadata": {
  "kernelspec": {
   "display_name": "Python 3 (ipykernel)",
   "language": "python",
   "name": "python3"
  },
  "language_info": {
   "codemirror_mode": {
    "name": "ipython",
    "version": 3
   },
   "file_extension": ".py",
   "mimetype": "text/x-python",
   "name": "python",
   "nbconvert_exporter": "python",
   "pygments_lexer": "ipython3",
   "version": "3.10.5"
  }
 },
 "nbformat": 4,
 "nbformat_minor": 5
}
