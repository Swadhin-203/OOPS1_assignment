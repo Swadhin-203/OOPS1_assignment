{
 "cells": [
  {
   "cell_type": "markdown",
   "id": "9813cb64",
   "metadata": {},
   "source": [
    "Q1. Explain Class and Object with respect to Object-Oriented Programming. Give a suitable example.\n",
    "\n",
    "Ans: Classes are user-defined data types that act as the blueprint for individual objects, attributes and methods. Objects are instances of a class created with specifically defined data.For example Laptop is class and the objects of the Class Laptops are \n",
    "Lenevo,Dell,Macbook etc."
   ]
  },
  {
   "cell_type": "markdown",
   "id": "c467edc4",
   "metadata": {},
   "source": [
    "Q2. Name the four pillars of OOPs.\n",
    "\n",
    "Ans: Inheritance, Polymorphism, Encapsulation and Abstraction are the four pillars of the OOPS."
   ]
  },
  {
   "cell_type": "markdown",
   "id": "fe4b03ad",
   "metadata": {},
   "source": [
    "Q3. Explain why the __init__() function is used. Give a suitable example.\n",
    "\n",
    "Ans:__init__ method is act as a constructor in the oops.The __init__ method lets the class initialize the object's attributes and serves no other purpose. It is only used within classes.Example of it's use is let we create a function and intialize it using the __init__ then when we call our class we can pass any argument through the __init__."
   ]
  },
  {
   "cell_type": "markdown",
   "id": "0078f191",
   "metadata": {},
   "source": [
    "Q4. Why self is used in OOPs?\n",
    "\n",
    "Ans:Self is a variable which is used to represents the instance of the class. It is used as a reference pointer."
   ]
  },
  {
   "cell_type": "markdown",
   "id": "fca37f12",
   "metadata": {},
   "source": [
    "Q5. What is inheritance? Give an example for each type of inheritance.\n",
    "\n",
    "Ans:Inheritance is a mechanism of acquiring the features and behaviors of a class by another class.It is a feature or a process in which, new classes are created from the existing classes.Single Inheritance.Multiple Inheritance,Multilevel Inheritance,Hierarchical Inheritance,Hybrid Inheritance sre the five types of inheritance in python."
   ]
  },
  {
   "cell_type": "code",
   "execution_count": null,
   "id": "f21054df",
   "metadata": {},
   "outputs": [],
   "source": []
  },
  {
   "cell_type": "code",
   "execution_count": null,
   "id": "39a858a4",
   "metadata": {},
   "outputs": [],
   "source": []
  },
  {
   "cell_type": "code",
   "execution_count": null,
   "id": "fe5fb8bc",
   "metadata": {},
   "outputs": [],
   "source": []
  },
  {
   "cell_type": "code",
   "execution_count": null,
   "id": "d84c6088",
   "metadata": {},
   "outputs": [],
   "source": []
  },
  {
   "cell_type": "code",
   "execution_count": null,
   "id": "855e3ab5",
   "metadata": {},
   "outputs": [],
   "source": []
  },
  {
   "cell_type": "code",
   "execution_count": null,
   "id": "7aad100c",
   "metadata": {},
   "outputs": [],
   "source": []
  },
  {
   "cell_type": "code",
   "execution_count": null,
   "id": "efcbbb37",
   "metadata": {},
   "outputs": [],
   "source": []
  },
  {
   "cell_type": "code",
   "execution_count": null,
   "id": "d85ecb51",
   "metadata": {},
   "outputs": [],
   "source": []
  }
 ],
 "metadata": {
  "kernelspec": {
   "display_name": "Python 3 (ipykernel)",
   "language": "python",
   "name": "python3"
  },
  "language_info": {
   "codemirror_mode": {
    "name": "ipython",
    "version": 3
   },
   "file_extension": ".py",
   "mimetype": "text/x-python",
   "name": "python",
   "nbconvert_exporter": "python",
   "pygments_lexer": "ipython3",
   "version": "3.10.5"
  }
 },
 "nbformat": 4,
 "nbformat_minor": 5
}
